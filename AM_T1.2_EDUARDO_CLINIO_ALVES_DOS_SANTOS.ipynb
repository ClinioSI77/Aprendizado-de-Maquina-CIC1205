{
 "cells": [
  {
   "cell_type": "markdown",
   "id": "d9390983",
   "metadata": {},
   "source": [
    "# 2 Predição de preços de diamantes"
   ]
  },
  {
   "cell_type": "code",
   "execution_count": 63,
   "id": "e60c2756",
   "metadata": {},
   "outputs": [],
   "source": [
    "# Importando os pacotes\n",
    "\n",
    "import pandas as pd # Utilização de datasets\n",
    "import matplotlib.pyplot as plt # Visualização dos gráficos\n",
    "import numpy as np # Utilização de analise de dados\n",
    "from sklearn.preprocessing import StandardScaler # Normalização dados\n",
    "\n",
    "# Modelos e Analises\n",
    "from sklearn.model_selection import train_test_split # Treino e Testes\n",
    "from sklearn.linear_model import LinearRegression, Lasso\n",
    "from sklearn.tree import DecisionTreeRegressor\n",
    "from sklearn.ensemble import RandomForestRegressor, GradientBoostingRegressor\n",
    "from sklearn.neighbors import KNeighborsRegressor\n",
    "from sklearn.metrics import mean_squared_error, r2_score"
   ]
  },
  {
   "cell_type": "code",
   "execution_count": 64,
   "id": "6d6d11d2",
   "metadata": {},
   "outputs": [],
   "source": [
    "# Importando o Dataset: Sobre este arquivo. Um quadro de dados com 53940 linhas e 10 variáveis: preço a preço"
   ]
  },
  {
   "cell_type": "code",
   "execution_count": 65,
   "id": "433b84f8",
   "metadata": {},
   "outputs": [],
   "source": [
    "df_diam = pd.read_csv('https://raw.githubusercontent.com/MLRG-CEFET-RJ/cic1205/main/data/diamonds.csv')"
   ]
  },
  {
   "cell_type": "code",
   "execution_count": 66,
   "id": "f7a243ac",
   "metadata": {},
   "outputs": [
    {
     "data": {
      "text/plain": [
       "(53940, 11)"
      ]
     },
     "execution_count": 66,
     "metadata": {},
     "output_type": "execute_result"
    }
   ],
   "source": [
    "df_diam.shape"
   ]
  },
  {
   "cell_type": "code",
   "execution_count": 50,
   "id": "b769ee52",
   "metadata": {},
   "outputs": [
    {
     "data": {
      "text/html": [
       "<div>\n",
       "<style scoped>\n",
       "    .dataframe tbody tr th:only-of-type {\n",
       "        vertical-align: middle;\n",
       "    }\n",
       "\n",
       "    .dataframe tbody tr th {\n",
       "        vertical-align: top;\n",
       "    }\n",
       "\n",
       "    .dataframe thead th {\n",
       "        text-align: right;\n",
       "    }\n",
       "</style>\n",
       "<table border=\"1\" class=\"dataframe\">\n",
       "  <thead>\n",
       "    <tr style=\"text-align: right;\">\n",
       "      <th></th>\n",
       "      <th>Unnamed: 0</th>\n",
       "      <th>carat</th>\n",
       "      <th>cut</th>\n",
       "      <th>color</th>\n",
       "      <th>clarity</th>\n",
       "      <th>depth</th>\n",
       "      <th>table</th>\n",
       "      <th>price</th>\n",
       "      <th>x</th>\n",
       "      <th>y</th>\n",
       "      <th>z</th>\n",
       "    </tr>\n",
       "  </thead>\n",
       "  <tbody>\n",
       "    <tr>\n",
       "      <th>0</th>\n",
       "      <td>1</td>\n",
       "      <td>0.23</td>\n",
       "      <td>Ideal</td>\n",
       "      <td>E</td>\n",
       "      <td>SI2</td>\n",
       "      <td>61.5</td>\n",
       "      <td>55.0</td>\n",
       "      <td>326</td>\n",
       "      <td>3.95</td>\n",
       "      <td>3.98</td>\n",
       "      <td>2.43</td>\n",
       "    </tr>\n",
       "    <tr>\n",
       "      <th>1</th>\n",
       "      <td>2</td>\n",
       "      <td>0.21</td>\n",
       "      <td>Premium</td>\n",
       "      <td>E</td>\n",
       "      <td>SI1</td>\n",
       "      <td>59.8</td>\n",
       "      <td>61.0</td>\n",
       "      <td>326</td>\n",
       "      <td>3.89</td>\n",
       "      <td>3.84</td>\n",
       "      <td>2.31</td>\n",
       "    </tr>\n",
       "    <tr>\n",
       "      <th>2</th>\n",
       "      <td>3</td>\n",
       "      <td>0.23</td>\n",
       "      <td>Good</td>\n",
       "      <td>E</td>\n",
       "      <td>VS1</td>\n",
       "      <td>56.9</td>\n",
       "      <td>65.0</td>\n",
       "      <td>327</td>\n",
       "      <td>4.05</td>\n",
       "      <td>4.07</td>\n",
       "      <td>2.31</td>\n",
       "    </tr>\n",
       "    <tr>\n",
       "      <th>3</th>\n",
       "      <td>4</td>\n",
       "      <td>0.29</td>\n",
       "      <td>Premium</td>\n",
       "      <td>I</td>\n",
       "      <td>VS2</td>\n",
       "      <td>62.4</td>\n",
       "      <td>58.0</td>\n",
       "      <td>334</td>\n",
       "      <td>4.20</td>\n",
       "      <td>4.23</td>\n",
       "      <td>2.63</td>\n",
       "    </tr>\n",
       "  </tbody>\n",
       "</table>\n",
       "</div>"
      ],
      "text/plain": [
       "   Unnamed: 0  carat      cut color clarity  depth  table  price     x     y  \\\n",
       "0           1   0.23    Ideal     E     SI2   61.5   55.0    326  3.95  3.98   \n",
       "1           2   0.21  Premium     E     SI1   59.8   61.0    326  3.89  3.84   \n",
       "2           3   0.23     Good     E     VS1   56.9   65.0    327  4.05  4.07   \n",
       "3           4   0.29  Premium     I     VS2   62.4   58.0    334  4.20  4.23   \n",
       "\n",
       "      z  \n",
       "0  2.43  \n",
       "1  2.31  \n",
       "2  2.31  \n",
       "3  2.63  "
      ]
     },
     "execution_count": 50,
     "metadata": {},
     "output_type": "execute_result"
    }
   ],
   "source": [
    "df_diam.head(4)"
   ]
  },
  {
   "cell_type": "code",
   "execution_count": 51,
   "id": "98fc5bb9",
   "metadata": {},
   "outputs": [],
   "source": [
    "# Ajustando dataset, devido a uma coluna anônima."
   ]
  },
  {
   "cell_type": "code",
   "execution_count": 52,
   "id": "3c48bc4c",
   "metadata": {},
   "outputs": [],
   "source": [
    "df_diam = df_diam.drop(columns=[\"Unnamed: 0\"])"
   ]
  },
  {
   "cell_type": "code",
   "execution_count": 53,
   "id": "2ef60a73",
   "metadata": {},
   "outputs": [
    {
     "name": "stdout",
     "output_type": "stream",
     "text": [
      "<class 'pandas.core.frame.DataFrame'>\n",
      "RangeIndex: 53940 entries, 0 to 53939\n",
      "Data columns (total 10 columns):\n",
      " #   Column   Non-Null Count  Dtype  \n",
      "---  ------   --------------  -----  \n",
      " 0   carat    53940 non-null  float64\n",
      " 1   cut      53940 non-null  object \n",
      " 2   color    53940 non-null  object \n",
      " 3   clarity  53940 non-null  object \n",
      " 4   depth    53940 non-null  float64\n",
      " 5   table    53940 non-null  float64\n",
      " 6   price    53940 non-null  int64  \n",
      " 7   x        53940 non-null  float64\n",
      " 8   y        53940 non-null  float64\n",
      " 9   z        53940 non-null  float64\n",
      "dtypes: float64(6), int64(1), object(3)\n",
      "memory usage: 4.1+ MB\n"
     ]
    }
   ],
   "source": [
    "df_diam.info()"
   ]
  },
  {
   "cell_type": "code",
   "execution_count": 54,
   "id": "85bff2cd",
   "metadata": {},
   "outputs": [
    {
     "data": {
      "text/plain": [
       "0"
      ]
     },
     "execution_count": 54,
     "metadata": {},
     "output_type": "execute_result"
    }
   ],
   "source": [
    "df_diam.isnull().sum().sum() #checando a existência de valores nulos"
   ]
  },
  {
   "cell_type": "markdown",
   "id": "69aa8042",
   "metadata": {},
   "source": [
    "#### Observamos que as variáveis corte, cor e claridade são dados categóricos, segundo o descritivo no site \"kaggle.com/datasets. Sendo eles: corte (Fair, Good, Very Good, Premium, Ideal), cor diamante, de J (pior) a D (melhor) e clareza uma medida de quão claro é o diamante (I1 (pior), SI2, SI1, VS2, VS1, VVS2, VVS1, IF (melhor))"
   ]
  },
  {
   "cell_type": "code",
   "execution_count": 67,
   "id": "927a6002",
   "metadata": {
    "scrolled": true
   },
   "outputs": [
    {
     "name": "stdout",
     "output_type": "stream",
     "text": [
      "{'cut': Index(['Fair', 'Good', 'Ideal', 'Premium', 'Very Good'], dtype='object'), 'color': Index(['D', 'E', 'F', 'G', 'H', 'I', 'J'], dtype='object'), 'clarity': Index(['I1', 'IF', 'SI1', 'SI2', 'VS1', 'VS2', 'VVS1', 'VVS2'], dtype='object')}\n"
     ]
    }
   ],
   "source": [
    "categories = {col: df_diam[col].astype('category').cat.categories for col in ['cut', 'color', 'clarity']}\n",
    "print(categories)"
   ]
  },
  {
   "cell_type": "code",
   "execution_count": 68,
   "id": "52d7ef51",
   "metadata": {},
   "outputs": [],
   "source": [
    "# Transformando as colunas e mapeamento personalizado\n",
    "mapeamento_cut = {'Ideal': 4, 'Premium': 3, 'Very Good': 2, 'Good': 1, 'Fair': 0}\n",
    "mapeamento_color = {'D': 6, 'E': 5, 'F': 4, 'G': 3, 'H': 2, 'I': 1, 'J': 0}\n",
    "mapeamento_clarity = {'IF': 7, 'VVS1': 6, 'VVS2': 5, 'VS1': 4, 'VS2': 3, 'SI1': 2, 'SI2': 1, 'I1': 0}\n",
    "\n",
    "# Aplicando o mapeamento às colunas do Dataset\n",
    "df_diam['cut'] = df_diam['cut'].map(mapeamento_cut)\n",
    "df_diam['color'] = df_diam['color'].map(mapeamento_color)\n",
    "df_diam['clarity'] = df_diam['clarity'].map(mapeamento_clarity)\n"
   ]
  },
  {
   "cell_type": "code",
   "execution_count": 69,
   "id": "6315c309",
   "metadata": {},
   "outputs": [
    {
     "name": "stdout",
     "output_type": "stream",
     "text": [
      "'cut': [0, 1, 2, 3, 4]\n",
      "'color': [0, 1, 2, 3, 4, 5, 6]\n",
      "'clarity': [0, 1, 2, 3, 4, 5, 6, 7]\n"
     ]
    }
   ],
   "source": [
    "# Transformando em inteiros\n",
    "df_diam['cut'] = df_diam['cut'].astype(int)\n",
    "df_diam['color'] = df_diam['color'].astype(int)\n",
    "df_diam['clarity'] = df_diam['clarity'].astype(int)\n",
    "\n",
    "unique_cut = df_diam['cut'].unique()\n",
    "unique_color = df_diam['color'].unique()\n",
    "unique_clarity = df_diam['clarity'].unique()\n",
    "\n",
    "print(\"'cut':\", sorted(unique_cut))\n",
    "print(\"'color':\", sorted(unique_color))\n",
    "print(\"'clarity':\", sorted(unique_clarity))\n"
   ]
  },
  {
   "cell_type": "code",
   "execution_count": 58,
   "id": "5c44d69d",
   "metadata": {},
   "outputs": [
    {
     "name": "stdout",
     "output_type": "stream",
     "text": [
      "<class 'pandas.core.frame.DataFrame'>\n",
      "RangeIndex: 53940 entries, 0 to 53939\n",
      "Data columns (total 10 columns):\n",
      " #   Column   Non-Null Count  Dtype  \n",
      "---  ------   --------------  -----  \n",
      " 0   carat    53940 non-null  float64\n",
      " 1   cut      53940 non-null  int32  \n",
      " 2   color    53940 non-null  int32  \n",
      " 3   clarity  53940 non-null  int32  \n",
      " 4   depth    53940 non-null  float64\n",
      " 5   table    53940 non-null  float64\n",
      " 6   price    53940 non-null  int64  \n",
      " 7   x        53940 non-null  float64\n",
      " 8   y        53940 non-null  float64\n",
      " 9   z        53940 non-null  float64\n",
      "dtypes: float64(6), int32(3), int64(1)\n",
      "memory usage: 3.5 MB\n"
     ]
    }
   ],
   "source": [
    "df_diam.info()"
   ]
  },
  {
   "cell_type": "code",
   "execution_count": 59,
   "id": "5708f7d7",
   "metadata": {},
   "outputs": [
    {
     "data": {
      "text/html": [
       "<div>\n",
       "<style scoped>\n",
       "    .dataframe tbody tr th:only-of-type {\n",
       "        vertical-align: middle;\n",
       "    }\n",
       "\n",
       "    .dataframe tbody tr th {\n",
       "        vertical-align: top;\n",
       "    }\n",
       "\n",
       "    .dataframe thead th {\n",
       "        text-align: right;\n",
       "    }\n",
       "</style>\n",
       "<table border=\"1\" class=\"dataframe\">\n",
       "  <thead>\n",
       "    <tr style=\"text-align: right;\">\n",
       "      <th></th>\n",
       "      <th>carat</th>\n",
       "      <th>cut</th>\n",
       "      <th>color</th>\n",
       "      <th>clarity</th>\n",
       "      <th>depth</th>\n",
       "      <th>table</th>\n",
       "      <th>price</th>\n",
       "      <th>x</th>\n",
       "      <th>y</th>\n",
       "      <th>z</th>\n",
       "    </tr>\n",
       "  </thead>\n",
       "  <tbody>\n",
       "    <tr>\n",
       "      <th>0</th>\n",
       "      <td>0.23</td>\n",
       "      <td>4</td>\n",
       "      <td>5</td>\n",
       "      <td>1</td>\n",
       "      <td>61.5</td>\n",
       "      <td>55.0</td>\n",
       "      <td>326</td>\n",
       "      <td>3.95</td>\n",
       "      <td>3.98</td>\n",
       "      <td>2.43</td>\n",
       "    </tr>\n",
       "    <tr>\n",
       "      <th>1</th>\n",
       "      <td>0.21</td>\n",
       "      <td>3</td>\n",
       "      <td>5</td>\n",
       "      <td>2</td>\n",
       "      <td>59.8</td>\n",
       "      <td>61.0</td>\n",
       "      <td>326</td>\n",
       "      <td>3.89</td>\n",
       "      <td>3.84</td>\n",
       "      <td>2.31</td>\n",
       "    </tr>\n",
       "    <tr>\n",
       "      <th>2</th>\n",
       "      <td>0.23</td>\n",
       "      <td>1</td>\n",
       "      <td>5</td>\n",
       "      <td>4</td>\n",
       "      <td>56.9</td>\n",
       "      <td>65.0</td>\n",
       "      <td>327</td>\n",
       "      <td>4.05</td>\n",
       "      <td>4.07</td>\n",
       "      <td>2.31</td>\n",
       "    </tr>\n",
       "    <tr>\n",
       "      <th>3</th>\n",
       "      <td>0.29</td>\n",
       "      <td>3</td>\n",
       "      <td>1</td>\n",
       "      <td>3</td>\n",
       "      <td>62.4</td>\n",
       "      <td>58.0</td>\n",
       "      <td>334</td>\n",
       "      <td>4.20</td>\n",
       "      <td>4.23</td>\n",
       "      <td>2.63</td>\n",
       "    </tr>\n",
       "  </tbody>\n",
       "</table>\n",
       "</div>"
      ],
      "text/plain": [
       "   carat  cut  color  clarity  depth  table  price     x     y     z\n",
       "0   0.23    4      5        1   61.5   55.0    326  3.95  3.98  2.43\n",
       "1   0.21    3      5        2   59.8   61.0    326  3.89  3.84  2.31\n",
       "2   0.23    1      5        4   56.9   65.0    327  4.05  4.07  2.31\n",
       "3   0.29    3      1        3   62.4   58.0    334  4.20  4.23  2.63"
      ]
     },
     "execution_count": 59,
     "metadata": {},
     "output_type": "execute_result"
    }
   ],
   "source": [
    "df_diam.head(4)"
   ]
  },
  {
   "cell_type": "code",
   "execution_count": 70,
   "id": "486b78f9",
   "metadata": {
    "scrolled": true
   },
   "outputs": [
    {
     "data": {
      "text/plain": [
       "carat       Axes(0.125,0.11;0.110714x0.77)\n",
       "depth    Axes(0.257857,0.11;0.110714x0.77)\n",
       "table    Axes(0.390714,0.11;0.110714x0.77)\n",
       "x        Axes(0.523571,0.11;0.110714x0.77)\n",
       "y        Axes(0.656429,0.11;0.110714x0.77)\n",
       "z        Axes(0.789286,0.11;0.110714x0.77)\n",
       "dtype: object"
      ]
     },
     "execution_count": 70,
     "metadata": {},
     "output_type": "execute_result"
    },
    {
     "data": {
      "image/png": "[encoded data removed]",
      "text/plain": [
       "<Figure size 1200x500 with 6 Axes>"
      ]
     },
     "metadata": {},
     "output_type": "display_data"
    }
   ],
   "source": [
    "# Avaliando a variabilidade entre as variáveis: Carat = Peso Quil, depth = porcetagem profundidade, table = Largura Tab.\n",
    "# x = comprimento, y = largura e z = profundidade\n",
    "\n",
    "boxplot_colunas = ['carat', 'depth', 'table', 'x', 'y', 'z']\n",
    "df_diam[boxplot_colunas].plot(kind='box', subplots=True, figsize= (12,5))"
   ]
  },
  {
   "cell_type": "code",
   "execution_count": 61,
   "id": "49f556a0",
   "metadata": {},
   "outputs": [
    {
     "name": "stdout",
     "output_type": "stream",
     "text": [
      "(43152, 9) (10788, 9) (43152,) (10788,)\n"
     ]
    }
   ],
   "source": [
    "# Ajustando os conjuntos de treinamento e teste.\n",
    "X = df_diam.drop('price', axis=1)\n",
    "y = df_diam['price']\n",
    "\n",
    "# Divida os dados em um conjunto de treinamento e testes (80% de treinamento, 20% de teste)\n",
    "\n",
    "X_treino, X_teste, y_treino, y_teste = train_test_split(X, y, test_size=0.2, random_state=42)\n",
    "\n",
    "#Normalização\n",
    "norm = StandardScaler()\n",
    "X_treino = norm.fit_transform(X_treino)\n",
    "X_teste = norm.transform(X_teste)\n",
    "\n",
    "print(X_treino.shape, X_teste.shape, y_treino.shape, y_teste.shape)"
   ]
  },
  {
   "cell_type": "code",
   "execution_count": 62,
   "id": "e84fb641",
   "metadata": {},
   "outputs": [
    {
     "name": "stdout",
     "output_type": "stream",
     "text": [
      "                Modelo         MSE    R²\n",
      "0     Regressão Linear  1499636.69  0.91\n",
      "1                Lasso  1499715.34  0.91\n",
      "2       Árvore Decisão   531193.43  0.97\n",
      "3   Floresta Aleatória   291109.42  0.98\n",
      "4  K-Nearest Neighbors   507822.26  0.97\n",
      "5    Gradient Boosting   371237.37  0.98\n"
     ]
    }
   ],
   "source": [
    "# Criar, treinar modelos e resultados\n",
    "\n",
    "# Modelo de Regressão Linear\n",
    "linear_model = LinearRegression()\n",
    "linear_model.fit(X_treino, y_treino)\n",
    "linear_pred = linear_model.predict(X_teste)\n",
    "\n",
    "# Modelo Lasso\n",
    "lasso_model = Lasso()\n",
    "lasso_model.fit(X_treino, y_treino)\n",
    "lasso_pred = lasso_model.predict(X_teste)\n",
    "\n",
    "# Modelo Árvore Decisão Regressor\n",
    "tree_model = DecisionTreeRegressor()\n",
    "tree_model.fit(X_treino, y_treino)\n",
    "tree_pred = tree_model.predict(X_teste)\n",
    "\n",
    "# Modelo Floresta Aleatória Regressor\n",
    "rf_model = RandomForestRegressor()\n",
    "rf_model.fit(X_treino, y_treino)\n",
    "rf_pred = rf_model.predict(X_teste)\n",
    "\n",
    "# Modelo K-Nearest Neighbors Regressor\n",
    "knn_model = KNeighborsRegressor()\n",
    "knn_model.fit(X_treino, y_treino)\n",
    "knn_pred = knn_model.predict(X_teste)\n",
    "\n",
    "# Modelo Gradient Boosting Regressor\n",
    "gb_model = GradientBoostingRegressor()\n",
    "gb_model.fit(X_treino, y_treino)\n",
    "gb_pred = gb_model.predict(X_teste)\n",
    "\n",
    "# Calcular métricas para avaliação\n",
    "models = {\n",
    "    \"Regressão Linear\": linear_pred,\n",
    "    \"Lasso\": lasso_pred,\n",
    "    \"Árvore Decisão\": tree_pred,\n",
    "    \"Floresta Aleatória\": rf_pred,\n",
    "    \"K-Nearest Neighbors\": knn_pred,\n",
    "    \"Gradient Boosting\": gb_pred\n",
    "}\n",
    "\n",
    "# Crie listas para armazenar os resultados\n",
    "model_names = []\n",
    "mse_values = []\n",
    "r2_values = []\n",
    "\n",
    "# Adicione seus modelos e resultados às listas\n",
    "model_names.extend(models.keys())\n",
    "\n",
    "for model_name, predictions in models.items():\n",
    "    mse = mean_squared_error(y_teste, predictions)\n",
    "    r2 = r2_score(y_teste, predictions)\n",
    "    mse_values.append(f'{mse:.2f}')\n",
    "    r2_values.append(f'{r2:.2f}')\n",
    "\n",
    "# Crie um DataFrame com os resultados\n",
    "df_results = pd.DataFrame({\n",
    "    \"Modelo\": model_names,\n",
    "    \"MSE\": mse_values,\n",
    "    \"R²\": r2_values\n",
    "})\n",
    "\n",
    "# Exiba a tabela\n",
    "print(df_results)   \n"
   ]
  },
  {
   "cell_type": "code",
   "execution_count": null,
   "id": "0b1d28c0",
   "metadata": {},
   "outputs": [],
   "source": [
    "O modelo baseado em floresta aleatória teve um desempenho mais satisfatório em relação ao demais, pois apresentou \n",
    "o maior R2(0,98) e menor MSE-erro quadrático médio(291109.42). \n",
    "O modelo GB também apresentou um R2(0,98), entretanto, seu MSE-erro quadrático médio foi um pouco maior(371054.51)."
   ]
  }
 ],
 "metadata": {
  "kernelspec": {
   "display_name": "Python 3 (ipykernel)",
   "language": "python",
   "name": "python3"
  },
  "language_info": {
   "codemirror_mode": {
    "name": "ipython",
    "version": 3
   },
   "file_extension": ".py",
   "mimetype": "text/x-python",
   "name": "python",
   "nbconvert_exporter": "python",
   "pygments_lexer": "ipython3",
   "version": "3.11.5"
  }
 },
 "nbformat": 4,
 "nbformat_minor": 5
}
