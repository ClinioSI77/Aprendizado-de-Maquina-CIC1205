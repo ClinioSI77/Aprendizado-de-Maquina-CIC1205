{
 "cells": [
  {
   "cell_type": "markdown",
   "id": "a5500046",
   "metadata": {},
   "source": [
    "# 1 Predição de pagamento de empréstimos"
   ]
  },
  {
   "cell_type": "markdown",
   "id": "a48e7c7c",
   "metadata": {},
   "source": [
    "# Importando os pacotes"
   ]
  },
  {
   "cell_type": "code",
   "execution_count": 86,
   "id": "af8f12f9",
   "metadata": {},
   "outputs": [],
   "source": [
    "import pandas as pd # Utilização de datasets\n",
    "import matplotlib.pyplot as plt # Visualização dos gráficos\n",
    "import numpy as np # Utilização de analise de dados\n",
    "from sklearn.preprocessing import StandardScaler # Normalização dados\n",
    "import seaborn as sns\n",
    "# Modelos e Analises\n",
    "from sklearn.linear_model import LogisticRegression\n",
    "from sklearn.tree import DecisionTreeClassifier\n",
    "from sklearn.ensemble import RandomForestClassifier\n",
    "from sklearn.neighbors import KNeighborsClassifier\n",
    "from sklearn.ensemble import GradientBoostingClassifier\n",
    "from sklearn.metrics import accuracy_score, confusion_matrix, classification_report"
   ]
  },
  {
   "cell_type": "code",
   "execution_count": 87,
   "id": "e36d940e",
   "metadata": {},
   "outputs": [],
   "source": [
    "# Importando o Dataset e atribuindo as variáveis, conforme a Tabela 1: Esquema do conjunto de dados com histórico de clientes.\n",
    "# O conjunto de dados a ser utilizado para treinamento(treino) e testes(testes)."
   ]
  },
  {
   "cell_type": "code",
   "execution_count": 88,
   "id": "2a783f72",
   "metadata": {},
   "outputs": [],
   "source": [
    "column_names = ['Esct','Ndep','Renda', 'Tipor', 'Vbem', 'Nparc', 'Vparc', 'Tel', 'Idade', 'Resms', 'Entrada', 'Classe']\n",
    "\n",
    "df_treino = pd.read_table('https://raw.githubusercontent.com/MLRG-CEFET-RJ/cic1205/main/data/credtrain.txt', names=column_names, header=None)\n",
    "\n",
    "df_teste = pd.read_table('https://raw.githubusercontent.com/MLRG-CEFET-RJ/cic1205/main/data/credtest.txt', names=column_names, header=None)\n"
   ]
  },
  {
   "cell_type": "code",
   "execution_count": 89,
   "id": "35c149e4",
   "metadata": {},
   "outputs": [
    {
     "data": {
      "text/plain": [
       "((1500, 12), (577, 12))"
      ]
     },
     "execution_count": 89,
     "metadata": {},
     "output_type": "execute_result"
    }
   ],
   "source": [
    "# Validando o tamanho dos dataset's\n",
    "df_treino.shape, df_teste.shape"
   ]
  },
  {
   "cell_type": "code",
   "execution_count": 90,
   "id": "6f8e857b",
   "metadata": {
    "scrolled": false
   },
   "outputs": [
    {
     "data": {
      "text/html": [
       "<div>\n",
       "<style scoped>\n",
       "    .dataframe tbody tr th:only-of-type {\n",
       "        vertical-align: middle;\n",
       "    }\n",
       "\n",
       "    .dataframe tbody tr th {\n",
       "        vertical-align: top;\n",
       "    }\n",
       "\n",
       "    .dataframe thead th {\n",
       "        text-align: right;\n",
       "    }\n",
       "</style>\n",
       "<table border=\"1\" class=\"dataframe\">\n",
       "  <thead>\n",
       "    <tr style=\"text-align: right;\">\n",
       "      <th></th>\n",
       "      <th>Esct</th>\n",
       "      <th>Ndep</th>\n",
       "      <th>Renda</th>\n",
       "      <th>Tipor</th>\n",
       "      <th>Vbem</th>\n",
       "      <th>Nparc</th>\n",
       "      <th>Vparc</th>\n",
       "      <th>Tel</th>\n",
       "      <th>Idade</th>\n",
       "      <th>Resms</th>\n",
       "      <th>Entrada</th>\n",
       "      <th>Classe</th>\n",
       "    </tr>\n",
       "  </thead>\n",
       "  <tbody>\n",
       "    <tr>\n",
       "      <th>0</th>\n",
       "      <td>1</td>\n",
       "      <td>0</td>\n",
       "      <td>360</td>\n",
       "      <td>0</td>\n",
       "      <td>313</td>\n",
       "      <td>9</td>\n",
       "      <td>52</td>\n",
       "      <td>0</td>\n",
       "      <td>25</td>\n",
       "      <td>48</td>\n",
       "      <td>0</td>\n",
       "      <td>1</td>\n",
       "    </tr>\n",
       "    <tr>\n",
       "      <th>1</th>\n",
       "      <td>0</td>\n",
       "      <td>0</td>\n",
       "      <td>350</td>\n",
       "      <td>1</td>\n",
       "      <td>468</td>\n",
       "      <td>10</td>\n",
       "      <td>65</td>\n",
       "      <td>0</td>\n",
       "      <td>33</td>\n",
       "      <td>6</td>\n",
       "      <td>0</td>\n",
       "      <td>1</td>\n",
       "    </tr>\n",
       "    <tr>\n",
       "      <th>2</th>\n",
       "      <td>0</td>\n",
       "      <td>0</td>\n",
       "      <td>1100</td>\n",
       "      <td>0</td>\n",
       "      <td>829</td>\n",
       "      <td>9</td>\n",
       "      <td>125</td>\n",
       "      <td>0</td>\n",
       "      <td>56</td>\n",
       "      <td>48</td>\n",
       "      <td>0</td>\n",
       "      <td>1</td>\n",
       "    </tr>\n",
       "    <tr>\n",
       "      <th>3</th>\n",
       "      <td>0</td>\n",
       "      <td>0</td>\n",
       "      <td>3000</td>\n",
       "      <td>0</td>\n",
       "      <td>552</td>\n",
       "      <td>12</td>\n",
       "      <td>76</td>\n",
       "      <td>1</td>\n",
       "      <td>31</td>\n",
       "      <td>60</td>\n",
       "      <td>0</td>\n",
       "      <td>1</td>\n",
       "    </tr>\n",
       "  </tbody>\n",
       "</table>\n",
       "</div>"
      ],
      "text/plain": [
       "   Esct  Ndep  Renda  Tipor  Vbem  Nparc  Vparc  Tel  Idade  Resms  Entrada  \\\n",
       "0     1     0    360      0   313      9     52    0     25     48        0   \n",
       "1     0     0    350      1   468     10     65    0     33      6        0   \n",
       "2     0     0   1100      0   829      9    125    0     56     48        0   \n",
       "3     0     0   3000      0   552     12     76    1     31     60        0   \n",
       "\n",
       "   Classe  \n",
       "0       1  \n",
       "1       1  \n",
       "2       1  \n",
       "3       1  "
      ]
     },
     "execution_count": 90,
     "metadata": {},
     "output_type": "execute_result"
    }
   ],
   "source": [
    "df_treino.head(4)"
   ]
  },
  {
   "cell_type": "code",
   "execution_count": 91,
   "id": "e3c75b49",
   "metadata": {},
   "outputs": [
    {
     "data": {
      "text/html": [
       "<div>\n",
       "<style scoped>\n",
       "    .dataframe tbody tr th:only-of-type {\n",
       "        vertical-align: middle;\n",
       "    }\n",
       "\n",
       "    .dataframe tbody tr th {\n",
       "        vertical-align: top;\n",
       "    }\n",
       "\n",
       "    .dataframe thead th {\n",
       "        text-align: right;\n",
       "    }\n",
       "</style>\n",
       "<table border=\"1\" class=\"dataframe\">\n",
       "  <thead>\n",
       "    <tr style=\"text-align: right;\">\n",
       "      <th></th>\n",
       "      <th>Esct</th>\n",
       "      <th>Ndep</th>\n",
       "      <th>Renda</th>\n",
       "      <th>Tipor</th>\n",
       "      <th>Vbem</th>\n",
       "      <th>Nparc</th>\n",
       "      <th>Vparc</th>\n",
       "      <th>Tel</th>\n",
       "      <th>Idade</th>\n",
       "      <th>Resms</th>\n",
       "      <th>Entrada</th>\n",
       "      <th>Classe</th>\n",
       "    </tr>\n",
       "  </thead>\n",
       "  <tbody>\n",
       "    <tr>\n",
       "      <th>0</th>\n",
       "      <td>0</td>\n",
       "      <td>2</td>\n",
       "      <td>500</td>\n",
       "      <td>1</td>\n",
       "      <td>618</td>\n",
       "      <td>10</td>\n",
       "      <td>85</td>\n",
       "      <td>0</td>\n",
       "      <td>36</td>\n",
       "      <td>6</td>\n",
       "      <td>0</td>\n",
       "      <td>0</td>\n",
       "    </tr>\n",
       "    <tr>\n",
       "      <th>1</th>\n",
       "      <td>1</td>\n",
       "      <td>0</td>\n",
       "      <td>813</td>\n",
       "      <td>0</td>\n",
       "      <td>552</td>\n",
       "      <td>4</td>\n",
       "      <td>119</td>\n",
       "      <td>0</td>\n",
       "      <td>43</td>\n",
       "      <td>48</td>\n",
       "      <td>119</td>\n",
       "      <td>1</td>\n",
       "    </tr>\n",
       "    <tr>\n",
       "      <th>2</th>\n",
       "      <td>3</td>\n",
       "      <td>0</td>\n",
       "      <td>350</td>\n",
       "      <td>0</td>\n",
       "      <td>488</td>\n",
       "      <td>12</td>\n",
       "      <td>66</td>\n",
       "      <td>0</td>\n",
       "      <td>43</td>\n",
       "      <td>0</td>\n",
       "      <td>0</td>\n",
       "      <td>1</td>\n",
       "    </tr>\n",
       "    <tr>\n",
       "      <th>3</th>\n",
       "      <td>1</td>\n",
       "      <td>0</td>\n",
       "      <td>1530</td>\n",
       "      <td>0</td>\n",
       "      <td>381</td>\n",
       "      <td>1</td>\n",
       "      <td>398</td>\n",
       "      <td>0</td>\n",
       "      <td>28</td>\n",
       "      <td>48</td>\n",
       "      <td>0</td>\n",
       "      <td>1</td>\n",
       "    </tr>\n",
       "  </tbody>\n",
       "</table>\n",
       "</div>"
      ],
      "text/plain": [
       "   Esct  Ndep  Renda  Tipor  Vbem  Nparc  Vparc  Tel  Idade  Resms  Entrada  \\\n",
       "0     0     2    500      1   618     10     85    0     36      6        0   \n",
       "1     1     0    813      0   552      4    119    0     43     48      119   \n",
       "2     3     0    350      0   488     12     66    0     43      0        0   \n",
       "3     1     0   1530      0   381      1    398    0     28     48        0   \n",
       "\n",
       "   Classe  \n",
       "0       0  \n",
       "1       1  \n",
       "2       1  \n",
       "3       1  "
      ]
     },
     "execution_count": 91,
     "metadata": {},
     "output_type": "execute_result"
    }
   ],
   "source": [
    "df_teste.head(4)"
   ]
  },
  {
   "cell_type": "code",
   "execution_count": 92,
   "id": "a4bda829",
   "metadata": {},
   "outputs": [
    {
     "data": {
      "text/plain": [
       "0"
      ]
     },
     "execution_count": 92,
     "metadata": {},
     "output_type": "execute_result"
    }
   ],
   "source": [
    "df_treino.isnull().sum().sum() #checando a existência de valores nulos\n",
    "df_teste.isnull().sum().sum()"
   ]
  },
  {
   "cell_type": "code",
   "execution_count": 93,
   "id": "68c9268d",
   "metadata": {
    "scrolled": true
   },
   "outputs": [
    {
     "name": "stdout",
     "output_type": "stream",
     "text": [
      "<class 'pandas.core.frame.DataFrame'>\n",
      "RangeIndex: 1500 entries, 0 to 1499\n",
      "Data columns (total 12 columns):\n",
      " #   Column   Non-Null Count  Dtype\n",
      "---  ------   --------------  -----\n",
      " 0   Esct     1500 non-null   int64\n",
      " 1   Ndep     1500 non-null   int64\n",
      " 2   Renda    1500 non-null   int64\n",
      " 3   Tipor    1500 non-null   int64\n",
      " 4   Vbem     1500 non-null   int64\n",
      " 5   Nparc    1500 non-null   int64\n",
      " 6   Vparc    1500 non-null   int64\n",
      " 7   Tel      1500 non-null   int64\n",
      " 8   Idade    1500 non-null   int64\n",
      " 9   Resms    1500 non-null   int64\n",
      " 10  Entrada  1500 non-null   int64\n",
      " 11  Classe   1500 non-null   int64\n",
      "dtypes: int64(12)\n",
      "memory usage: 140.8 KB\n"
     ]
    }
   ],
   "source": [
    "df_treino.info()"
   ]
  },
  {
   "cell_type": "markdown",
   "id": "2e4e8e96",
   "metadata": {},
   "source": [
    "#Transformando variáveis categóricas.\n",
    "\n",
    "O dataset está com as variáveis classificadas como inteiro, entretanto, sabemos pelo enunciado do exercício que as variáveis: Esct (Estado Civil), Ndep (Número de dependentes) e Tipor(Tipo de residência) são variáveis categóricas. A variável Esct não tem uma ordem específica, ou seja, 2 não é o dobro de 1 no estado civil. Isso pode ser um problema em alguns modelos, pois modelos de redes neurais não podem ser treinados sobre atributos que não são numéricos. Para resolver esse problema, transformaremos essa variavel em variáveis \"dummy\", neste caso em 4. Para as variáveis Tipor e Ndep, não há essa necessidade. \n"
   ]
  },
  {
   "cell_type": "code",
   "execution_count": 94,
   "id": "663feb32",
   "metadata": {},
   "outputs": [],
   "source": [
    "df_treino = pd.get_dummies(data=df_treino, prefix=\"Esct\", columns=[\"Esct\"], drop_first=True)\n",
    "\n",
    "df_teste = pd.get_dummies(data=df_teste, prefix=\"Esct\", columns=[\"Esct\"], drop_first=True)\n"
   ]
  },
  {
   "cell_type": "code",
   "execution_count": 95,
   "id": "238e6722",
   "metadata": {
    "scrolled": false
   },
   "outputs": [
    {
     "data": {
      "text/html": [
       "<div>\n",
       "<style scoped>\n",
       "    .dataframe tbody tr th:only-of-type {\n",
       "        vertical-align: middle;\n",
       "    }\n",
       "\n",
       "    .dataframe tbody tr th {\n",
       "        vertical-align: top;\n",
       "    }\n",
       "\n",
       "    .dataframe thead th {\n",
       "        text-align: right;\n",
       "    }\n",
       "</style>\n",
       "<table border=\"1\" class=\"dataframe\">\n",
       "  <thead>\n",
       "    <tr style=\"text-align: right;\">\n",
       "      <th></th>\n",
       "      <th>Ndep</th>\n",
       "      <th>Renda</th>\n",
       "      <th>Tipor</th>\n",
       "      <th>Vbem</th>\n",
       "      <th>Nparc</th>\n",
       "      <th>Vparc</th>\n",
       "      <th>Tel</th>\n",
       "      <th>Idade</th>\n",
       "      <th>Resms</th>\n",
       "      <th>Entrada</th>\n",
       "      <th>Classe</th>\n",
       "      <th>Esct_1</th>\n",
       "      <th>Esct_2</th>\n",
       "      <th>Esct_3</th>\n",
       "    </tr>\n",
       "  </thead>\n",
       "  <tbody>\n",
       "    <tr>\n",
       "      <th>0</th>\n",
       "      <td>0</td>\n",
       "      <td>360</td>\n",
       "      <td>0</td>\n",
       "      <td>313</td>\n",
       "      <td>9</td>\n",
       "      <td>52</td>\n",
       "      <td>0</td>\n",
       "      <td>25</td>\n",
       "      <td>48</td>\n",
       "      <td>0</td>\n",
       "      <td>1</td>\n",
       "      <td>True</td>\n",
       "      <td>False</td>\n",
       "      <td>False</td>\n",
       "    </tr>\n",
       "    <tr>\n",
       "      <th>1</th>\n",
       "      <td>0</td>\n",
       "      <td>350</td>\n",
       "      <td>1</td>\n",
       "      <td>468</td>\n",
       "      <td>10</td>\n",
       "      <td>65</td>\n",
       "      <td>0</td>\n",
       "      <td>33</td>\n",
       "      <td>6</td>\n",
       "      <td>0</td>\n",
       "      <td>1</td>\n",
       "      <td>False</td>\n",
       "      <td>False</td>\n",
       "      <td>False</td>\n",
       "    </tr>\n",
       "    <tr>\n",
       "      <th>2</th>\n",
       "      <td>0</td>\n",
       "      <td>1100</td>\n",
       "      <td>0</td>\n",
       "      <td>829</td>\n",
       "      <td>9</td>\n",
       "      <td>125</td>\n",
       "      <td>0</td>\n",
       "      <td>56</td>\n",
       "      <td>48</td>\n",
       "      <td>0</td>\n",
       "      <td>1</td>\n",
       "      <td>False</td>\n",
       "      <td>False</td>\n",
       "      <td>False</td>\n",
       "    </tr>\n",
       "    <tr>\n",
       "      <th>3</th>\n",
       "      <td>0</td>\n",
       "      <td>3000</td>\n",
       "      <td>0</td>\n",
       "      <td>552</td>\n",
       "      <td>12</td>\n",
       "      <td>76</td>\n",
       "      <td>1</td>\n",
       "      <td>31</td>\n",
       "      <td>60</td>\n",
       "      <td>0</td>\n",
       "      <td>1</td>\n",
       "      <td>False</td>\n",
       "      <td>False</td>\n",
       "      <td>False</td>\n",
       "    </tr>\n",
       "    <tr>\n",
       "      <th>4</th>\n",
       "      <td>0</td>\n",
       "      <td>1000</td>\n",
       "      <td>0</td>\n",
       "      <td>809</td>\n",
       "      <td>12</td>\n",
       "      <td>111</td>\n",
       "      <td>0</td>\n",
       "      <td>24</td>\n",
       "      <td>7</td>\n",
       "      <td>0</td>\n",
       "      <td>1</td>\n",
       "      <td>True</td>\n",
       "      <td>False</td>\n",
       "      <td>False</td>\n",
       "    </tr>\n",
       "  </tbody>\n",
       "</table>\n",
       "</div>"
      ],
      "text/plain": [
       "   Ndep  Renda  Tipor  Vbem  Nparc  Vparc  Tel  Idade  Resms  Entrada  Classe  \\\n",
       "0     0    360      0   313      9     52    0     25     48        0       1   \n",
       "1     0    350      1   468     10     65    0     33      6        0       1   \n",
       "2     0   1100      0   829      9    125    0     56     48        0       1   \n",
       "3     0   3000      0   552     12     76    1     31     60        0       1   \n",
       "4     0   1000      0   809     12    111    0     24      7        0       1   \n",
       "\n",
       "   Esct_1  Esct_2  Esct_3  \n",
       "0    True   False   False  \n",
       "1   False   False   False  \n",
       "2   False   False   False  \n",
       "3   False   False   False  \n",
       "4    True   False   False  "
      ]
     },
     "execution_count": 95,
     "metadata": {},
     "output_type": "execute_result"
    }
   ],
   "source": [
    "df_treino.head(5)"
   ]
  },
  {
   "cell_type": "code",
   "execution_count": 96,
   "id": "2616de2b",
   "metadata": {},
   "outputs": [
    {
     "data": {
      "text/html": [
       "<div>\n",
       "<style scoped>\n",
       "    .dataframe tbody tr th:only-of-type {\n",
       "        vertical-align: middle;\n",
       "    }\n",
       "\n",
       "    .dataframe tbody tr th {\n",
       "        vertical-align: top;\n",
       "    }\n",
       "\n",
       "    .dataframe thead th {\n",
       "        text-align: right;\n",
       "    }\n",
       "</style>\n",
       "<table border=\"1\" class=\"dataframe\">\n",
       "  <thead>\n",
       "    <tr style=\"text-align: right;\">\n",
       "      <th></th>\n",
       "      <th>Ndep</th>\n",
       "      <th>Renda</th>\n",
       "      <th>Tipor</th>\n",
       "      <th>Vbem</th>\n",
       "      <th>Nparc</th>\n",
       "      <th>Vparc</th>\n",
       "      <th>Tel</th>\n",
       "      <th>Idade</th>\n",
       "      <th>Resms</th>\n",
       "      <th>Entrada</th>\n",
       "      <th>Classe</th>\n",
       "      <th>Esct_1</th>\n",
       "      <th>Esct_2</th>\n",
       "      <th>Esct_3</th>\n",
       "    </tr>\n",
       "  </thead>\n",
       "  <tbody>\n",
       "    <tr>\n",
       "      <th>0</th>\n",
       "      <td>2</td>\n",
       "      <td>500</td>\n",
       "      <td>1</td>\n",
       "      <td>618</td>\n",
       "      <td>10</td>\n",
       "      <td>85</td>\n",
       "      <td>0</td>\n",
       "      <td>36</td>\n",
       "      <td>6</td>\n",
       "      <td>0</td>\n",
       "      <td>0</td>\n",
       "      <td>False</td>\n",
       "      <td>False</td>\n",
       "      <td>False</td>\n",
       "    </tr>\n",
       "    <tr>\n",
       "      <th>1</th>\n",
       "      <td>0</td>\n",
       "      <td>813</td>\n",
       "      <td>0</td>\n",
       "      <td>552</td>\n",
       "      <td>4</td>\n",
       "      <td>119</td>\n",
       "      <td>0</td>\n",
       "      <td>43</td>\n",
       "      <td>48</td>\n",
       "      <td>119</td>\n",
       "      <td>1</td>\n",
       "      <td>True</td>\n",
       "      <td>False</td>\n",
       "      <td>False</td>\n",
       "    </tr>\n",
       "    <tr>\n",
       "      <th>2</th>\n",
       "      <td>0</td>\n",
       "      <td>350</td>\n",
       "      <td>0</td>\n",
       "      <td>488</td>\n",
       "      <td>12</td>\n",
       "      <td>66</td>\n",
       "      <td>0</td>\n",
       "      <td>43</td>\n",
       "      <td>0</td>\n",
       "      <td>0</td>\n",
       "      <td>1</td>\n",
       "      <td>False</td>\n",
       "      <td>False</td>\n",
       "      <td>True</td>\n",
       "    </tr>\n",
       "    <tr>\n",
       "      <th>3</th>\n",
       "      <td>0</td>\n",
       "      <td>1530</td>\n",
       "      <td>0</td>\n",
       "      <td>381</td>\n",
       "      <td>1</td>\n",
       "      <td>398</td>\n",
       "      <td>0</td>\n",
       "      <td>28</td>\n",
       "      <td>48</td>\n",
       "      <td>0</td>\n",
       "      <td>1</td>\n",
       "      <td>True</td>\n",
       "      <td>False</td>\n",
       "      <td>False</td>\n",
       "    </tr>\n",
       "    <tr>\n",
       "      <th>4</th>\n",
       "      <td>0</td>\n",
       "      <td>688</td>\n",
       "      <td>1</td>\n",
       "      <td>396</td>\n",
       "      <td>10</td>\n",
       "      <td>60</td>\n",
       "      <td>0</td>\n",
       "      <td>49</td>\n",
       "      <td>72</td>\n",
       "      <td>0</td>\n",
       "      <td>1</td>\n",
       "      <td>False</td>\n",
       "      <td>False</td>\n",
       "      <td>False</td>\n",
       "    </tr>\n",
       "  </tbody>\n",
       "</table>\n",
       "</div>"
      ],
      "text/plain": [
       "   Ndep  Renda  Tipor  Vbem  Nparc  Vparc  Tel  Idade  Resms  Entrada  Classe  \\\n",
       "0     2    500      1   618     10     85    0     36      6        0       0   \n",
       "1     0    813      0   552      4    119    0     43     48      119       1   \n",
       "2     0    350      0   488     12     66    0     43      0        0       1   \n",
       "3     0   1530      0   381      1    398    0     28     48        0       1   \n",
       "4     0    688      1   396     10     60    0     49     72        0       1   \n",
       "\n",
       "   Esct_1  Esct_2  Esct_3  \n",
       "0   False   False   False  \n",
       "1    True   False   False  \n",
       "2   False   False    True  \n",
       "3    True   False   False  \n",
       "4   False   False   False  "
      ]
     },
     "execution_count": 96,
     "metadata": {},
     "output_type": "execute_result"
    }
   ],
   "source": [
    "df_teste.head(5)"
   ]
  },
  {
   "cell_type": "code",
   "execution_count": 97,
   "id": "53e7ee65",
   "metadata": {},
   "outputs": [
    {
     "data": {
      "text/plain": [
       "Renda         Axes(0.125,0.11;0.0945122x0.77)\n",
       "Vbem       Axes(0.238415,0.11;0.0945122x0.77)\n",
       "Nparc      Axes(0.351829,0.11;0.0945122x0.77)\n",
       "Vparc      Axes(0.465244,0.11;0.0945122x0.77)\n",
       "Idade      Axes(0.578659,0.11;0.0945122x0.77)\n",
       "Resms      Axes(0.692073,0.11;0.0945122x0.77)\n",
       "Entrada    Axes(0.805488,0.11;0.0945122x0.77)\n",
       "dtype: object"
      ]
     },
     "execution_count": 97,
     "metadata": {},
     "output_type": "execute_result"
    },
    {
     "data": {
      "image/png": "[encoded data removed]",
      "text/plain": [
       "<Figure size 1500x1000 with 7 Axes>"
      ]
     },
     "metadata": {},
     "output_type": "display_data"
    }
   ],
   "source": [
    "# Avaliando a variabilidade entre as variáveis numéricas: Ficando evidente a grande quantidade de outliers, justificando a normalização.\n",
    "\n",
    "boxplot_colunas = ['Renda', 'Vbem', 'Nparc', 'Vparc', 'Idade', 'Resms', 'Entrada']\n",
    "df_treino[boxplot_colunas].plot(kind='box', subplots=True, figsize= (15,10))"
   ]
  },
  {
   "cell_type": "code",
   "execution_count": 98,
   "id": "e361d447",
   "metadata": {
    "scrolled": true
   },
   "outputs": [
    {
     "data": {
      "image/png": "[encoded data removed]",
      "text/plain": [
       "<Figure size 640x480 with 1 Axes>"
      ]
     },
     "metadata": {},
     "output_type": "display_data"
    }
   ],
   "source": [
    "class_division = [ df_treino[df_treino['Classe'] == 1 ].shape[0], df_treino[df_treino['Classe'] == 0 ].shape[0] ]\n",
    "my_labels = ['Pagou', 'Não Pagou']\n",
    "\n",
    "plt.pie(class_division, labels = my_labels)\n",
    "plt.show()"
   ]
  },
  {
   "cell_type": "code",
   "execution_count": 99,
   "id": "c4bfdc9e",
   "metadata": {},
   "outputs": [
    {
     "name": "stdout",
     "output_type": "stream",
     "text": [
      "Proporção de Adimplentes: 47.67%\n",
      "Proporção de Inadimplentes: 52.33%\n"
     ]
    }
   ],
   "source": [
    "print(\n",
    "    \"Proporção de Adimplentes: \"\n",
    "    + str(round(df_treino[df_treino['Classe'] == 1].shape[0] / df_treino.shape[0] * 100, 2))\n",
    "    + \"%\"\n",
    ")\n",
    "print(\n",
    "    \"Proporção de Inadimplentes: \"\n",
    "    + str(round(df_treino[df_treino['Classe'] == 0].shape[0] / df_treino.shape[0] * 100, 2))\n",
    "    + \"%\"\n",
    ")\n",
    "\n"
   ]
  },
  {
   "cell_type": "code",
   "execution_count": 100,
   "id": "c258e3eb",
   "metadata": {},
   "outputs": [],
   "source": [
    "# Ajustando os conjuntos de treinamento e teste.\n",
    "\n",
    "X_treino = df_treino.drop('Classe', axis=1)\n",
    "X_treino = np.array(X_treino).astype(float)\n",
    "Y_treino = df_treino['Classe']\n",
    "\n",
    "X_teste = df_teste.drop('Classe', axis=1)\n",
    "X_teste = np.array(X_teste).astype(float)\n",
    "Y_teste = df_teste['Classe']"
   ]
  },
  {
   "cell_type": "code",
   "execution_count": 101,
   "id": "e6eba315",
   "metadata": {},
   "outputs": [
    {
     "name": "stdout",
     "output_type": "stream",
     "text": [
      "(1500, 13) (577, 13) (1500,) (577,)\n"
     ]
    }
   ],
   "source": [
    "#Normalização\n",
    "\n",
    "norm = StandardScaler()\n",
    "\n",
    "X_treino = norm.fit_transform(X_treino)\n",
    "X_teste = norm.transform(X_teste)\n",
    "\n",
    "print(X_treino.shape, X_teste.shape, Y_treino.shape, Y_teste.shape)"
   ]
  },
  {
   "cell_type": "code",
   "execution_count": 102,
   "id": "026b33a5",
   "metadata": {},
   "outputs": [
    {
     "data": {
      "text/html": [
       "<style>#sk-container-id-5 {color: black;}#sk-container-id-5 pre{padding: 0;}#sk-container-id-5 div.sk-toggleable {background-color: white;}#sk-container-id-5 label.sk-toggleable__label {cursor: pointer;display: block;width: 100%;margin-bottom: 0;padding: 0.3em;box-sizing: border-box;text-align: center;}#sk-container-id-5 label.sk-toggleable__label-arrow:before {content: \"▸\";float: left;margin-right: 0.25em;color: #696969;}#sk-container-id-5 label.sk-toggleable__label-arrow:hover:before {color: black;}#sk-container-id-5 div.sk-estimator:hover label.sk-toggleable__label-arrow:before {color: black;}#sk-container-id-5 div.sk-toggleable__content {max-height: 0;max-width: 0;overflow: hidden;text-align: left;background-color: #f0f8ff;}#sk-container-id-5 div.sk-toggleable__content pre {margin: 0.2em;color: black;border-radius: 0.25em;background-color: #f0f8ff;}#sk-container-id-5 input.sk-toggleable__control:checked~div.sk-toggleable__content {max-height: 200px;max-width: 100%;overflow: auto;}#sk-container-id-5 input.sk-toggleable__control:checked~label.sk-toggleable__label-arrow:before {content: \"▾\";}#sk-container-id-5 div.sk-estimator input.sk-toggleable__control:checked~label.sk-toggleable__label {background-color: #d4ebff;}#sk-container-id-5 div.sk-label input.sk-toggleable__control:checked~label.sk-toggleable__label {background-color: #d4ebff;}#sk-container-id-5 input.sk-hidden--visually {border: 0;clip: rect(1px 1px 1px 1px);clip: rect(1px, 1px, 1px, 1px);height: 1px;margin: -1px;overflow: hidden;padding: 0;position: absolute;width: 1px;}#sk-container-id-5 div.sk-estimator {font-family: monospace;background-color: #f0f8ff;border: 1px dotted black;border-radius: 0.25em;box-sizing: border-box;margin-bottom: 0.5em;}#sk-container-id-5 div.sk-estimator:hover {background-color: #d4ebff;}#sk-container-id-5 div.sk-parallel-item::after {content: \"\";width: 100%;border-bottom: 1px solid gray;flex-grow: 1;}#sk-container-id-5 div.sk-label:hover label.sk-toggleable__label {background-color: #d4ebff;}#sk-container-id-5 div.sk-serial::before {content: \"\";position: absolute;border-left: 1px solid gray;box-sizing: border-box;top: 0;bottom: 0;left: 50%;z-index: 0;}#sk-container-id-5 div.sk-serial {display: flex;flex-direction: column;align-items: center;background-color: white;padding-right: 0.2em;padding-left: 0.2em;position: relative;}#sk-container-id-5 div.sk-item {position: relative;z-index: 1;}#sk-container-id-5 div.sk-parallel {display: flex;align-items: stretch;justify-content: center;background-color: white;position: relative;}#sk-container-id-5 div.sk-item::before, #sk-container-id-5 div.sk-parallel-item::before {content: \"\";position: absolute;border-left: 1px solid gray;box-sizing: border-box;top: 0;bottom: 0;left: 50%;z-index: -1;}#sk-container-id-5 div.sk-parallel-item {display: flex;flex-direction: column;z-index: 1;position: relative;background-color: white;}#sk-container-id-5 div.sk-parallel-item:first-child::after {align-self: flex-end;width: 50%;}#sk-container-id-5 div.sk-parallel-item:last-child::after {align-self: flex-start;width: 50%;}#sk-container-id-5 div.sk-parallel-item:only-child::after {width: 0;}#sk-container-id-5 div.sk-dashed-wrapped {border: 1px dashed gray;margin: 0 0.4em 0.5em 0.4em;box-sizing: border-box;padding-bottom: 0.4em;background-color: white;}#sk-container-id-5 div.sk-label label {font-family: monospace;font-weight: bold;display: inline-block;line-height: 1.2em;}#sk-container-id-5 div.sk-label-container {text-align: center;}#sk-container-id-5 div.sk-container {/* jupyter's `normalize.less` sets `[hidden] { display: none; }` but bootstrap.min.css set `[hidden] { display: none !important; }` so we also need the `!important` here to be able to override the default hidden behavior on the sphinx rendered scikit-learn.org. See: https://github.com/scikit-learn/scikit-learn/issues/21755 */display: inline-block !important;position: relative;}#sk-container-id-5 div.sk-text-repr-fallback {display: none;}</style><div id=\"sk-container-id-5\" class=\"sk-top-container\"><div class=\"sk-text-repr-fallback\"><pre>GradientBoostingClassifier()</pre><b>In a Jupyter environment, please rerun this cell to show the HTML representation or trust the notebook. <br />On GitHub, the HTML representation is unable to render, please try loading this page with nbviewer.org.</b></div><div class=\"sk-container\" hidden><div class=\"sk-item\"><div class=\"sk-estimator sk-toggleable\"><input class=\"sk-toggleable__control sk-hidden--visually\" id=\"sk-estimator-id-5\" type=\"checkbox\" checked><label for=\"sk-estimator-id-5\" class=\"sk-toggleable__label sk-toggleable__label-arrow\">GradientBoostingClassifier</label><div class=\"sk-toggleable__content\"><pre>GradientBoostingClassifier()</pre></div></div></div></div></div>"
      ],
      "text/plain": [
       "GradientBoostingClassifier()"
      ]
     },
     "execution_count": 102,
     "metadata": {},
     "output_type": "execute_result"
    }
   ],
   "source": [
    "# Criar e treinar modelos \n",
    "\n",
    "RegLog = LogisticRegression()\n",
    "RegLog.fit(X_treino, Y_treino)\n",
    "\n",
    "ArvDec = DecisionTreeClassifier()\n",
    "ArvDec.fit(X_treino, Y_treino)\n",
    "\n",
    "FloAle = RandomForestClassifier()\n",
    "FloAle.fit(X_treino, Y_treino)\n",
    "\n",
    "VK = KNeighborsClassifier()\n",
    "VK.fit(X_treino, Y_treino)\n",
    "\n",
    "GB = GradientBoostingClassifier()\n",
    "GB.fit(X_treino, Y_treino)"
   ]
  },
  {
   "cell_type": "raw",
   "id": "b1457bc0",
   "metadata": {},
   "source": [
    "# Previsões no conjunto de testes"
   ]
  },
  {
   "cell_type": "code",
   "execution_count": 103,
   "id": "fd976a81",
   "metadata": {},
   "outputs": [
    {
     "name": "stdout",
     "output_type": "stream",
     "text": [
      "Accuracy: 88.73%\n",
      "Matrix Confusão:\n",
      " [[290  16]\n",
      " [ 49 222]]\n",
      "Regressão Logística:\n",
      "               precision    recall  f1-score   support\n",
      "\n",
      "           0       0.86      0.95      0.90       306\n",
      "           1       0.93      0.82      0.87       271\n",
      "\n",
      "    accuracy                           0.89       577\n",
      "   macro avg       0.89      0.88      0.89       577\n",
      "weighted avg       0.89      0.89      0.89       577\n",
      "\n"
     ]
    }
   ],
   "source": [
    "Y_pred_RegLog = RegLog.predict(X_teste)\n",
    "\n",
    "# Avaliação dos modelos\n",
    "accuracy = accuracy_score(Y_teste, Y_pred_RegLog)\n",
    "confusion = confusion_matrix(Y_teste, Y_pred_RegLog)\n",
    "classification_rep = classification_report(Y_teste, Y_pred_RegLog)\n",
    "\n",
    "print(f\"Accuracy: {accuracy * 100:.2f}%\")\n",
    "print(\"Matrix Confusão:\\n\", confusion)\n",
    "print(\"Regressão Logística:\\n\", classification_rep)"
   ]
  },
  {
   "cell_type": "code",
   "execution_count": 104,
   "id": "257d8cc6",
   "metadata": {
    "scrolled": true
   },
   "outputs": [
    {
     "name": "stdout",
     "output_type": "stream",
     "text": [
      "Accuracy: 85.27%\n",
      "Matrix Confusão:\n",
      " [[258  48]\n",
      " [ 37 234]]\n",
      "Árvore Decisão:\n",
      "               precision    recall  f1-score   support\n",
      "\n",
      "           0       0.87      0.84      0.86       306\n",
      "           1       0.83      0.86      0.85       271\n",
      "\n",
      "    accuracy                           0.85       577\n",
      "   macro avg       0.85      0.85      0.85       577\n",
      "weighted avg       0.85      0.85      0.85       577\n",
      "\n"
     ]
    }
   ],
   "source": [
    "Y_pred_ArvDec = ArvDec.predict(X_teste)\n",
    "\n",
    "# Avaliação dos modelos\n",
    "accuracy = accuracy_score(Y_teste, Y_pred_ArvDec)\n",
    "confusion = confusion_matrix(Y_teste, Y_pred_ArvDec)\n",
    "classification_rep = classification_report(Y_teste, Y_pred_ArvDec)\n",
    "\n",
    "print(f\"Accuracy: {accuracy * 100:.2f}%\")\n",
    "print(\"Matrix Confusão:\\n\", confusion)\n",
    "print(\"Árvore Decisão:\\n\", classification_rep)"
   ]
  },
  {
   "cell_type": "code",
   "execution_count": 105,
   "id": "dee3d2f6",
   "metadata": {},
   "outputs": [
    {
     "name": "stdout",
     "output_type": "stream",
     "text": [
      "Accuracy: 89.77%\n",
      "Matrix Confusão:\n",
      " [[294  12]\n",
      " [ 47 224]]\n",
      "Floresta Aleatória:\n",
      "               precision    recall  f1-score   support\n",
      "\n",
      "           0       0.86      0.96      0.91       306\n",
      "           1       0.95      0.83      0.88       271\n",
      "\n",
      "    accuracy                           0.90       577\n",
      "   macro avg       0.91      0.89      0.90       577\n",
      "weighted avg       0.90      0.90      0.90       577\n",
      "\n"
     ]
    }
   ],
   "source": [
    "Y_pred_FloAle = FloAle.predict(X_teste)\n",
    "\n",
    "# Avaliação dos modelos\n",
    "accuracy = accuracy_score(Y_teste, Y_pred_FloAle)\n",
    "confusion = confusion_matrix(Y_teste, Y_pred_FloAle)\n",
    "classification_rep = classification_report(Y_teste, Y_pred_FloAle)\n",
    "\n",
    "print(f\"Accuracy: {accuracy * 100:.2f}%\")\n",
    "print(\"Matrix Confusão:\\n\", confusion)\n",
    "print(\"Floresta Aleatória:\\n\", classification_rep)"
   ]
  },
  {
   "cell_type": "code",
   "execution_count": 106,
   "id": "ea11356b",
   "metadata": {},
   "outputs": [
    {
     "name": "stdout",
     "output_type": "stream",
     "text": [
      "Accuracy: 86.31%\n",
      "Matrix Confusão:\n",
      " [[281  25]\n",
      " [ 54 217]]\n",
      "K - Vizinhos:\n",
      "               precision    recall  f1-score   support\n",
      "\n",
      "           0       0.84      0.92      0.88       306\n",
      "           1       0.90      0.80      0.85       271\n",
      "\n",
      "    accuracy                           0.86       577\n",
      "   macro avg       0.87      0.86      0.86       577\n",
      "weighted avg       0.87      0.86      0.86       577\n",
      "\n"
     ]
    }
   ],
   "source": [
    "Y_pred_VK = VK.predict(X_teste)\n",
    "\n",
    "# Avaliação dos modelos\n",
    "accuracy = accuracy_score(Y_teste, Y_pred_VK)\n",
    "confusion = confusion_matrix(Y_teste, Y_pred_VK)\n",
    "classification_rep = classification_report(Y_teste, Y_pred_VK)\n",
    "\n",
    "print(f\"Accuracy: {accuracy * 100:.2f}%\")\n",
    "print(\"Matrix Confusão:\\n\", confusion)\n",
    "print(\"K - Vizinhos:\\n\", classification_rep)"
   ]
  },
  {
   "cell_type": "code",
   "execution_count": 107,
   "id": "7518037f",
   "metadata": {},
   "outputs": [
    {
     "name": "stdout",
     "output_type": "stream",
     "text": [
      "Accuracy: 90.12%\n",
      "Matrix Confusão:\n",
      " [[296  10]\n",
      " [ 47 224]]\n",
      "Gradient Boosting:\n",
      "               precision    recall  f1-score   support\n",
      "\n",
      "           0       0.86      0.97      0.91       306\n",
      "           1       0.96      0.83      0.89       271\n",
      "\n",
      "    accuracy                           0.90       577\n",
      "   macro avg       0.91      0.90      0.90       577\n",
      "weighted avg       0.91      0.90      0.90       577\n",
      "\n"
     ]
    }
   ],
   "source": [
    "Y_pred_GB = GB.predict(X_teste)\n",
    "\n",
    "# Avaliação dos modelos\n",
    "accuracy = accuracy_score(Y_teste, Y_pred_GB )\n",
    "confusion = confusion_matrix(Y_teste, Y_pred_GB )\n",
    "classification_rep = classification_report(Y_teste, Y_pred_GB)\n",
    "\n",
    "print(f\"Accuracy: {accuracy * 100:.2f}%\")\n",
    "print(\"Matrix Confusão:\\n\", confusion)\n",
    "print(\"Gradient Boosting:\\n\", classification_rep)\n",
    "\n",
    "#cm_norm = np.array(confusion) / np.sum(confusion)\n",
    "#sns.heatmap(cm_norm, annot=True, fmt=\".1%\", cmap=\"cool\")\n",
    "#plt.show()"
   ]
  }
 ],
 "metadata": {
  "kernelspec": {
   "display_name": "Python 3 (ipykernel)",
   "language": "python",
   "name": "python3"
  },
  "language_info": {
   "codemirror_mode": {
    "name": "ipython",
    "version": 3
   },
   "file_extension": ".py",
   "mimetype": "text/x-python",
   "name": "python",
   "nbconvert_exporter": "python",
   "pygments_lexer": "ipython3",
   "version": "3.11.5"
  }
 },
 "nbformat": 4,
 "nbformat_minor": 5
}
